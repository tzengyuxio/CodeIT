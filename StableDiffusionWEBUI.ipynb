{
  "nbformat": 4,
  "nbformat_minor": 0,
  "metadata": {
    "colab": {
      "provenance": [],
      "collapsed_sections": [],
      "include_colab_link": true
    },
    "kernelspec": {
      "name": "python3",
      "display_name": "Python 3"
    },
    "language_info": {
      "name": "python"
    },
    "accelerator": "GPU",
    "gpuClass": "standard"
  },
  "cells": [
    {
      "cell_type": "markdown",
      "metadata": {
        "id": "view-in-github",
        "colab_type": "text"
      },
      "source": [
        "<a href=\"https://colab.research.google.com/github/tzengyuxio/CodeIT/blob/master/StableDiffusionWEBUI.ipynb\" target=\"_parent\"><img src=\"https://colab.research.google.com/assets/colab-badge.svg\" alt=\"Open In Colab\"/></a>"
      ]
    },
    {
      "cell_type": "markdown",
      "source": [
        "# GPU Info"
      ],
      "metadata": {
        "id": "2twbDuNnZyjM"
      }
    },
    {
      "cell_type": "code",
      "source": [
        "!nvidia-smi"
      ],
      "metadata": {
        "id": "p8FI40sFj9tU",
        "colab": {
          "base_uri": "https://localhost:8080/"
        },
        "outputId": "b18d1916-e01b-41a0-e066-5b65093ac06a"
      },
      "execution_count": 1,
      "outputs": [
        {
          "output_type": "stream",
          "name": "stdout",
          "text": [
            "Wed Oct 12 20:27:55 2022       \n",
            "+-----------------------------------------------------------------------------+\n",
            "| NVIDIA-SMI 460.32.03    Driver Version: 460.32.03    CUDA Version: 11.2     |\n",
            "|-------------------------------+----------------------+----------------------+\n",
            "| GPU  Name        Persistence-M| Bus-Id        Disp.A | Volatile Uncorr. ECC |\n",
            "| Fan  Temp  Perf  Pwr:Usage/Cap|         Memory-Usage | GPU-Util  Compute M. |\n",
            "|                               |                      |               MIG M. |\n",
            "|===============================+======================+======================|\n",
            "|   0  Tesla T4            Off  | 00000000:00:04.0 Off |                    0 |\n",
            "| N/A   44C    P8    10W /  70W |      0MiB / 15109MiB |      0%      Default |\n",
            "|                               |                      |                  N/A |\n",
            "+-------------------------------+----------------------+----------------------+\n",
            "                                                                               \n",
            "+-----------------------------------------------------------------------------+\n",
            "| Processes:                                                                  |\n",
            "|  GPU   GI   CI        PID   Type   Process name                  GPU Memory |\n",
            "|        ID   ID                                                   Usage      |\n",
            "|=============================================================================|\n",
            "|  No running processes found                                                 |\n",
            "+-----------------------------------------------------------------------------+\n"
          ]
        }
      ]
    },
    {
      "cell_type": "markdown",
      "source": [
        "# Clone webui repository"
      ],
      "metadata": {
        "id": "OHCtG9MT0jLq"
      }
    },
    {
      "cell_type": "code",
      "source": [
        "!git clone https://github.com/AUTOMATIC1111/stable-diffusion-webui\n",
        "%cd stable-diffusion-webui\n",
        "!git pull"
      ],
      "metadata": {
        "id": "sBbcB4vwj_jm",
        "colab": {
          "base_uri": "https://localhost:8080/"
        },
        "outputId": "2cf5edf3-2852-4a66-e36d-f3ec73f64b98"
      },
      "execution_count": 2,
      "outputs": [
        {
          "output_type": "stream",
          "name": "stdout",
          "text": [
            "fatal: destination path 'stable-diffusion-webui' already exists and is not an empty directory.\n",
            "/content/stable-diffusion-webui\n",
            "Already up to date.\n"
          ]
        }
      ]
    },
    {
      "cell_type": "markdown",
      "source": [
        "#Connect to Google Drive"
      ],
      "metadata": {
        "id": "CnfuIbcQ-rn_"
      }
    },
    {
      "cell_type": "code",
      "source": [
        "#@markdown # Load the stable-diffusion model\n",
        "\n",
        "#@markdown **Google Drive Path Variables**\n",
        "force_remount = False\n",
        "\n",
        "%cd /content/\n",
        "import os\n",
        "from google.colab import drive\n",
        "try:\n",
        "  drive_path = \"/content/drive\"\n",
        "  drive.mount(drive_path,force_remount=force_remount)\n",
        "  models_path_gdrive = \"/content/drive/MyDrive/StableDiffusion/models\" #@param {type:\"string\"}\n",
        "  output_path_gdrive = \"/content/drive/MyDrive/StableDiffusion/outputs\" #@param {type:\"string\"}\n",
        "  models_path = models_path_gdrive\n",
        "  output_path = output_path_gdrive\n",
        "except:\n",
        "  print(\"mounting drive error\")\n",
        "  exit()\n",
        "\n",
        "os.makedirs(models_path, exist_ok=True)\n",
        "os.makedirs(output_path, exist_ok=True)\n",
        "\n",
        "print(f\"models_path: {models_path}\")\n",
        "print(f\"output_path: {output_path}\")\n",
        "copy_model_path = \"/content/stable-diffusion-webui/models/Stable-diffusion\"\n",
        "os.makedirs(copy_model_path, exist_ok=True)\n",
        "print(f\"model_copy_to: {copy_model_path}\")"
      ],
      "metadata": {
        "id": "TYULEYPs-4EY",
        "colab": {
          "base_uri": "https://localhost:8080/"
        },
        "outputId": "1cb36a4c-d755-4006-ef29-85dac3a1a884"
      },
      "execution_count": 3,
      "outputs": [
        {
          "output_type": "stream",
          "name": "stdout",
          "text": [
            "/content\n",
            "Drive already mounted at /content/drive; to attempt to forcibly remount, call drive.mount(\"/content/drive\", force_remount=True).\n",
            "models_path: /content/drive/MyDrive/StableDiffusion/models\n",
            "output_path: /content/drive/MyDrive/StableDiffusion/outputs\n",
            "model_copy_to: /content/stable-diffusion-webui/models/Stable-diffusion\n"
          ]
        }
      ]
    },
    {
      "cell_type": "markdown",
      "source": [
        "## Copy model"
      ],
      "metadata": {
        "id": "B5XygMHXnXEi"
      }
    },
    {
      "cell_type": "code",
      "source": [
        "!cp /content/drive/MyDrive/StableDiffusion/models/animefull-final-pruned.ckpt /content/stable-diffusion-webui/models/Stable-diffusion/animefull-final-pruned.ckpt\n",
        "!cp /content/drive/MyDrive/StableDiffusion/models/animevae.pt /content/stable-diffusion-webui/models/Stable-diffusion/animefull-final-pruned.vae.pt\n",
        "!ls /content/stable-diffusion-webui/models/Stable-diffusion/*\n",
        "!ls /content/stable-diffusion-webui/embeddings/*"
      ],
      "metadata": {
        "id": "0TFmHnJVBRI1",
        "colab": {
          "base_uri": "https://localhost:8080/"
        },
        "outputId": "57e23d05-4970-4779-b766-ba07a87aafa9"
      },
      "execution_count": 4,
      "outputs": [
        {
          "output_type": "stream",
          "name": "stdout",
          "text": [
            " /content/stable-diffusion-webui/models/Stable-diffusion/animefull-final-pruned.ckpt\n",
            " /content/stable-diffusion-webui/models/Stable-diffusion/animefull-final-pruned.vae.pt\n",
            " /content/stable-diffusion-webui/models/Stable-diffusion/animevae.pt\n",
            "'/content/stable-diffusion-webui/models/Stable-diffusion/Put Stable Diffusion checkpoints here.txt'\n",
            " /content/stable-diffusion-webui/embeddings/animevae.pt\n",
            "'/content/stable-diffusion-webui/embeddings/Place Textual Inversion embeddings here.txt'\n"
          ]
        }
      ]
    },
    {
      "cell_type": "markdown",
      "source": [
        "# requirements.txt"
      ],
      "metadata": {
        "id": "Q-5L8Kb6_Q5X"
      }
    },
    {
      "cell_type": "code",
      "source": [
        "%cd stable-diffusion-webui\n",
        "!COMMANDLINE_ARGS=\"--exit\" REQS_FILE=\"requirements.txt\" python launch.py"
      ],
      "metadata": {
        "id": "IB19TzabDtYF",
        "colab": {
          "base_uri": "https://localhost:8080/"
        },
        "outputId": "99de74db-d815-40b6-87e1-b26e33293faa"
      },
      "execution_count": 5,
      "outputs": [
        {
          "output_type": "stream",
          "name": "stdout",
          "text": [
            "/content/stable-diffusion-webui\n",
            "Python 3.7.14 (default, Sep  8 2022, 00:06:44) \n",
            "[GCC 7.5.0]\n",
            "Commit hash: 698d303b04e293635bfb49c525409f3bcf671dce\n",
            "Installing requirements for Web UI\n",
            "Exiting because of --exit argument\n"
          ]
        }
      ]
    },
    {
      "cell_type": "markdown",
      "source": [
        "# Launch web ui"
      ],
      "metadata": {
        "id": "pqXhwqsT_oiO"
      }
    },
    {
      "cell_type": "markdown",
      "source": [
        "Launch web ui. You will get a link to nnn.gradio.app, follow it.\n",
        "\n",
        "Commandline arguments are:\n",
        "  - `--share` - create online gradio.app link\n",
        "  - `--gradio-debug` - print outputs to console"
      ],
      "metadata": {
        "id": "xt8lbdmC04ox"
      }
    },
    {
      "cell_type": "code",
      "source": [
        "!COMMANDLINE_ARGS=\"--share\" REQS_FILE=\"requirements.txt\" python launch.py"
      ],
      "metadata": {
        "id": "R-xAdMA5wxXd",
        "colab": {
          "base_uri": "https://localhost:8080/"
        },
        "outputId": "4d125a86-ca1a-4b3c-9b21-ec0950b1157f"
      },
      "execution_count": 6,
      "outputs": [
        {
          "output_type": "stream",
          "name": "stdout",
          "text": [
            "Interrupted with signal 2 in <frame at 0xa3a1cb60, file '/content/stable-diffusion-webui/webui.py', line 96, code sigint_handler>\n"
          ]
        }
      ]
    },
    {
      "cell_type": "markdown",
      "source": [
        "# Copy output to Google Drive"
      ],
      "metadata": {
        "id": "xivwAZeMeiRy"
      }
    },
    {
      "cell_type": "code",
      "source": [
        "#@markdown **Copy output to Google Drive (Optional)**\n",
        "copy_to_google_drive = True #@param {type:\"boolean\"}\n",
        "\n",
        "from distutils.dir_util import copy_tree\n",
        "\n",
        "if copy_to_google_drive:\n",
        "  copy_tree(\"/content/stable-diffusion-webui/outputs\", \"/content/drive/MyDrive/StableDiffusion/outputs\")"
      ],
      "metadata": {
        "id": "DwFvGJiYelke"
      },
      "execution_count": 7,
      "outputs": []
    }
  ]
}